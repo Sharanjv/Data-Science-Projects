{
 "cells": [
  {
   "cell_type": "code",
   "execution_count": 18,
   "id": "40dd683e",
   "metadata": {},
   "outputs": [],
   "source": [
    "import requests\n",
    "import pandas as pd\n",
    "import dill\n",
    "import matplotlib.pyplot as plt"
   ]
  },
  {
   "cell_type": "markdown",
   "id": "ecad0feb",
   "metadata": {},
   "source": [
    "### Get Property Sales Records"
   ]
  },
  {
   "cell_type": "code",
   "execution_count": null,
   "id": "41600c03",
   "metadata": {},
   "outputs": [],
   "source": [
    "def get_property_records (offset, req_count):\n",
    "    \n",
    "    url = \"https://realty-mole-property-api.p.rapidapi.com/properties\"\n",
    "    headers = {\"X-RapidAPI-Key\": keys[0],\n",
    "               \"X-RapidAPI-Host\": \"realty-mole-property-api.p.rapidapi.com\"}\n",
    "    \n",
    "    prop_list = []\n",
    "    counter=1\n",
    "\n",
    "    while counter<=req_count:\n",
    "        querystring = {       \n",
    "               'latitude': 39.95319507488926, # center city Philadelphia\n",
    "               'longitude': -75.16433231975176,\n",
    "               'propertyType': 'Single Family, Townhouse, Condo, Apartment',\n",
    "               'radius': 41, # 25 mile radius in kilometers,\n",
    "               'limit': 500,\n",
    "               'offset':offset\n",
    "               }\n",
    "        response = requests.get(url, headers=headers, params=querystring)\n",
    "        prop_list.extend(response.json())\n",
    "        offset+=500\n",
    "        counter+=1\n",
    "        \n",
    "    new_offset = offset        \n",
    "    return prop_list, new_offset"
   ]
  },
  {
   "cell_type": "code",
   "execution_count": null,
   "id": "d3043120",
   "metadata": {},
   "outputs": [],
   "source": [
    "#home_list_0_150k, i = get_property_records(offset=0, req_count=300)\n",
    "#home_list_150k_500k, i = get_property_records(offset=150000, req_count=700)\n",
    "#home_list_500k_750k, j = get_property_records(offset=500000, req_count=500)\n",
    "home_list_750k_1M, k = get_property_records(offset=750000, req_count=500)\n",
    "home_list_end, k = get_property_records(offset=1e6, req_count=700)\n"
   ]
  },
  {
   "cell_type": "code",
   "execution_count": null,
   "id": "90505aeb",
   "metadata": {},
   "outputs": [],
   "source": [
    "#convert to df\n",
    "\n",
    "df1= pd.DataFrame(home_list_0_150k)\n",
    "df2= pd.DataFrame(home_list_150k_500k)\n",
    "df3= pd.DataFrame(home_list_500k_750k)\n",
    "df4= pd.DataFrame(home_list_750k_1M)\n",
    "df5= pd.DataFrame(home_list_750k_1M)\n",
    "df6= pd.DataFrame(home_list_end)\n",
    "\n",
    "df = pd.concat([df1, df2, df3, df4, df5, df6], ignore_index = True)\n"
   ]
  },
  {
   "cell_type": "code",
   "execution_count": null,
   "id": "e0e6feb2",
   "metadata": {},
   "outputs": [],
   "source": [
    "# Remove duplicates in the data"
   ]
  },
  {
   "cell_type": "code",
   "execution_count": 6,
   "id": "5dea36a1",
   "metadata": {},
   "outputs": [
    {
     "data": {
      "text/plain": [
       "(1135952, 27)"
      ]
     },
     "execution_count": 6,
     "metadata": {},
     "output_type": "execute_result"
    }
   ],
   "source": [
    "df =df[df.duplicated(subset=['id', 'lastSaleDate', 'lastSalePrice', 'squareFootage'], keep='first')==False]\n",
    "df.shape"
   ]
  },
  {
   "cell_type": "code",
   "execution_count": null,
   "id": "1aac97ff",
   "metadata": {},
   "outputs": [],
   "source": [
    "# Change SalesDate data type and add Sales Year"
   ]
  },
  {
   "cell_type": "code",
   "execution_count": 12,
   "id": "56a6f114",
   "metadata": {},
   "outputs": [],
   "source": [
    "df['lastSaleDate'] = pd.to_datetime(df['lastSaleDate'])\n",
    "df['lastSaleYear'] = df['lastSaleDate'].dt.year"
   ]
  },
  {
   "cell_type": "code",
   "execution_count": 13,
   "id": "2469390f",
   "metadata": {},
   "outputs": [
    {
     "name": "stdout",
     "output_type": "stream",
     "text": [
      "['Single Family' 'Duplex-Triplex' 'Townhouse' 'Condo']\n"
     ]
    }
   ],
   "source": [
    "#filter by property type\n",
    "\n",
    "df_filtered = pd.DataFrame(df.query(\"propertyType in ('Single Family', 'Townhouse', 'Condo', 'Duplex-Triplex')\"))\n",
    "\n",
    "print(df_filtered['propertyType'].unique())"
   ]
  },
  {
   "cell_type": "code",
   "execution_count": 14,
   "id": "1b36b18a",
   "metadata": {},
   "outputs": [
    {
     "data": {
      "text/plain": [
       "(802965, 28)"
      ]
     },
     "execution_count": 14,
     "metadata": {},
     "output_type": "execute_result"
    }
   ],
   "source": [
    "df_filtered.shape"
   ]
  },
  {
   "cell_type": "code",
   "execution_count": 16,
   "id": "40125b44",
   "metadata": {},
   "outputs": [
    {
     "data": {
      "text/plain": [
       "2019.0    28020\n",
       "2018.0    26300\n",
       "2021.0    24903\n",
       "2017.0    24585\n",
       "2020.0    24500\n",
       "2022.0    24284\n",
       "2016.0    21099\n",
       "2015.0    17990\n",
       "2006.0    15960\n",
       "2005.0    15662\n",
       "2014.0    14869\n",
       "2007.0    14695\n",
       "2004.0    14579\n",
       "2013.0    14236\n",
       "2003.0    12219\n",
       "2012.0    11881\n",
       "2008.0    11838\n",
       "2002.0    11346\n",
       "2009.0    11151\n",
       "2010.0    10853\n",
       "2001.0    10657\n",
       "2011.0    10266\n",
       "2000.0    10158\n",
       "2023.0     5928\n",
       "Name: lastSaleYear, dtype: int64"
      ]
     },
     "execution_count": 16,
     "metadata": {},
     "output_type": "execute_result"
    }
   ],
   "source": [
    "df_filtered.loc[df_filtered['lastSaleYear']>=2000, 'lastSaleYear'].value_counts()"
   ]
  },
  {
   "cell_type": "code",
   "execution_count": 19,
   "id": "71480a12",
   "metadata": {},
   "outputs": [
    {
     "data": {
      "image/png": "[encoded data removed]",
      "text/plain": [
       "<Figure size 640x480 with 1 Axes>"
      ]
     },
     "metadata": {},
     "output_type": "display_data"
    }
   ],
   "source": [
    "plt.hist(df_filtered['lastSaleYear'], bins=10, edgecolor='black')\n",
    "plt.show()"
   ]
  },
  {
   "cell_type": "code",
   "execution_count": 20,
   "id": "209d63bd",
   "metadata": {},
   "outputs": [
    {
     "data": {
      "text/plain": [
       "(470109, 28)"
      ]
     },
     "execution_count": 20,
     "metadata": {},
     "output_type": "execute_result"
    }
   ],
   "source": [
    "#remove any records above 3.5 mil and any records which are not single family homes above 1.5 mil\n",
    "\n",
    "#df['lastSalePrice']<3.5e6\n",
    "\n",
    "df_filtered = df_filtered.query(\"lastSalePrice < 3.5e6\")\n",
    "\n",
    "df_filtered= df_filtered.query(\"propertyType == 'Single Family' or (propertyType != 'Single Family' and lastSalePrice <1.5e6)\")\n",
    "\n",
    "df_filtered.shape"
   ]
  },
  {
   "cell_type": "code",
   "execution_count": 23,
   "id": "8c14680e",
   "metadata": {},
   "outputs": [
    {
     "data": {
      "image/png": "[encoded data removed]",
      "text/plain": [
       "<Figure size 640x480 with 1 Axes>"
      ]
     },
     "metadata": {},
     "output_type": "display_data"
    }
   ],
   "source": [
    "plt.hist(df_filtered.loc[(df_filtered['propertyType']=='Single Family') & (df_filtered['lastSalePrice'] <1.5e6), 'lastSalePrice'], bins=20, edgecolor='black')\n",
    "plt.grid(True)\n",
    "plt.show()"
   ]
  },
  {
   "cell_type": "code",
   "execution_count": null,
   "id": "bff21e89",
   "metadata": {},
   "outputs": [],
   "source": []
  }
 ],
 "metadata": {
  "kernelspec": {
   "display_name": "Python 3 (ipykernel)",
   "language": "python",
   "name": "python3"
  },
  "language_info": {
   "codemirror_mode": {
    "name": "ipython",
    "version": 3
   },
   "file_extension": ".py",
   "mimetype": "text/x-python",
   "name": "python",
   "nbconvert_exporter": "python",
   "pygments_lexer": "ipython3",
   "version": "3.10.9"
  }
 },
 "nbformat": 4,
 "nbformat_minor": 5
}
