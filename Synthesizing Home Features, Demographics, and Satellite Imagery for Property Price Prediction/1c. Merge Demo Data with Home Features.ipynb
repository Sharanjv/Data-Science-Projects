{
 "cells": [
  {
   "cell_type": "code",
   "execution_count": 1,
   "id": "d4681b53",
   "metadata": {},
   "outputs": [],
   "source": [
    "import requests\n",
    "import pandas as pd\n",
    "import numpy as np\n",
    "import dill\n"
   ]
  },
  {
   "cell_type": "code",
   "execution_count": 2,
   "id": "8295aff4",
   "metadata": {},
   "outputs": [],
   "source": [
    "#load home attributes data\n",
    "\n",
    "with open(r'df_filtered.pkd', 'rb') as f:\n",
    "   #home_list.extend(dill.load(f))\n",
    "   df_home = dill.load(f)  "
   ]
  },
  {
   "cell_type": "code",
   "execution_count": null,
   "id": "13ca9b9e",
   "metadata": {},
   "outputs": [],
   "source": [
    "with open(r'df_demo.pkd', 'rb') as f:\n",
    "   #home_list.extend(dill.load(f))\n",
    "   df_home = dill.load(f)  "
   ]
  },
  {
   "cell_type": "code",
   "execution_count": null,
   "id": "95c83162",
   "metadata": {},
   "outputs": [],
   "source": [
    "def getFips(df):\n",
    "    \n",
    "    url = r'https://geo.fcc.gov/api/census/block/find'\n",
    "    fips_list = []\n",
    "    latlong_df = df[['latitude', 'longitude']]\n",
    "    \n",
    "    for i in range(len(df)):\n",
    "        lat = latlong_df.iloc[i, 0]\n",
    "        lng = latlong_df.iloc[i, 1]\n",
    "        response = requests.get(url, params={'latitude': lat, \n",
    "                                         'longitude': lng,\n",
    "                                         'censusYear': 2020,\n",
    "                                         'format': 'json'\n",
    "                                        })\n",
    "    \n",
    "        fips = response.json()['Block']['FIPS']\n",
    "        list_item = (df.index[i], fips)\n",
    "        fips_list.append(list_item)\n",
    "    return fips_list\n",
    "    "
   ]
  },
  {
   "cell_type": "code",
   "execution_count": null,
   "id": "6992ac21",
   "metadata": {},
   "outputs": [],
   "source": [
    "fips_list = getFips(df)\n",
    "\n",
    "# construct fips df\n",
    "fips_df = pd.DataFrame(fips_list, columns=['Index', 'fips'])\n",
    "fips_df=fips_df.set_index('Index')\n",
    "fips_df['fipsTrim'] = fips_df['fips'].str[:-4]\n",
    "fips_df"
   ]
  },
  {
   "cell_type": "code",
   "execution_count": null,
   "id": "84b86029",
   "metadata": {},
   "outputs": [],
   "source": [
    "# merge fips data onto home attributes df\n",
    "\n",
    "df_home_fips = df_home.copy(deep=True)\n",
    "df_home_fips = df_fips.merge(fips_df, how='inner', left_index=True, right_index=True)\n"
   ]
  },
  {
   "cell_type": "code",
   "execution_count": null,
   "id": "9a948af0",
   "metadata": {},
   "outputs": [],
   "source": [
    "#Merge demo data onto home attributes data\n",
    "\n",
    "df_combined=df_home_fips.merge(df_demo, on='fipsTrim', how='left')"
   ]
  }
 ],
 "metadata": {
  "kernelspec": {
   "display_name": "Python 3 (ipykernel)",
   "language": "python",
   "name": "python3"
  },
  "language_info": {
   "codemirror_mode": {
    "name": "ipython",
    "version": 3
   },
   "file_extension": ".py",
   "mimetype": "text/x-python",
   "name": "python",
   "nbconvert_exporter": "python",
   "pygments_lexer": "ipython3",
   "version": "3.10.9"
  }
 },
 "nbformat": 4,
 "nbformat_minor": 5
}
